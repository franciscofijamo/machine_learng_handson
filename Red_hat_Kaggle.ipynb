{
  "nbformat": 4,
  "nbformat_minor": 0,
  "metadata": {
    "colab": {
      "name": "Red hat_Kaggle.ipynb",
      "provenance": [],
      "authorship_tag": "ABX9TyMyVJk0cu99vLZ8g2OYtBI0"
    },
    "kernelspec": {
      "name": "python3",
      "display_name": "Python 3"
    }
  },
  "cells": [
    {
      "cell_type": "markdown",
      "metadata": {
        "id": "hSA-aZ0KVNmh",
        "colab_type": "text"
      },
      "source": [
        "#Predicting Red Hat Business Value\n",
        "##Classify customer potential\n",
        "\n",
        "https://www.kaggle.com/c/predicting-red-hat-business-value/data?select=sample_submission.csv.zip\n",
        "\n",
        "\n",
        "---\n",
        "\n",
        "Como a maioria das empresas, a Red Hat é capaz de reunir muitas informações ao longo do tempo sobre o comportamento das pessoas que interagem com ela. Eles estão em busca de métodos melhores de usar esses dados comportamentais para prever quais indivíduos devem abordar - e até mesmo quando e como abordá-los.\n",
        "\n",
        "\n",
        "---\n",
        "\n",
        "Esta competição usa dois arquivos de dados separados que podem ser unidos para criar uma única tabela de dados unificada: um arquivo de pessoas e um arquivo de atividades.\n",
        "\n",
        "O arquivo de pessoas contém todas as pessoas únicas (e os correspondentes\n",
        "\n",
        "características) que realizaram atividades ao longo do tempo. Cada linha no arquivo de pessoas representa uma pessoa única. Cada pessoa tem um people_id único.\n",
        "\n",
        "O arquivo de atividades contém todas as atividades exclusivas (e as características das atividades correspondentes) que cada pessoa realizou ao longo do tempo. Cada linha no arquivo de atividade representa uma atividade exclusiva realizada por uma pessoa em uma determinada data. Cada atividade possui um activity_id exclusivo.\n",
        "\n",
        "O desafio desta competição é prever o valor potencial de negócios de uma pessoa que realizou uma atividade específica. O resultado do valor de negócios é definido por um campo sim / não anexado a cada atividade exclusiva no arquivo de atividades. O campo de resultado indica se cada pessoa concluiu ou não o resultado dentro de uma janela fixa de tempo após a execução de cada atividade exclusiva.\n",
        "\n",
        "O arquivo de atividades contém várias categorias diferentes de atividades. As atividades do tipo 1 são diferentes das atividades do tipo 2-7 porque há mais características conhecidas associadas às atividades do tipo 1 (nove no total) do que as atividades do tipo 2-7 (que têm apenas uma característica associada).\n",
        "\n",
        "Para desenvolver um modelo preditivo com esses dados, provavelmente você precisará juntar os arquivos em um único conjunto de dados. Os dois arquivos podem ser unidos usando person_id como a chave comum. Todas as variáveis ​​são categóricas, com exceção de 'char_38' no arquivo de pessoas, que é uma variável numérica contínua.\n"
      ]
    },
    {
      "cell_type": "code",
      "metadata": {
        "id": "BsAFTAqJVRyc",
        "colab_type": "code",
        "colab": {}
      },
      "source": [
        "import pandas as pd"
      ],
      "execution_count": 1,
      "outputs": []
    },
    {
      "cell_type": "code",
      "metadata": {
        "id": "E2pvr8aLq9cT",
        "colab_type": "code",
        "colab": {}
      },
      "source": [
        "act_train = ''\n",
        "people = ''"
      ],
      "execution_count": 1,
      "outputs": []
    }
  ]
}