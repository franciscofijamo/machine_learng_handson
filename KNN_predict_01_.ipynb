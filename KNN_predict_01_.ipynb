{
  "nbformat": 4,
  "nbformat_minor": 0,
  "metadata": {
    "colab": {
      "name": "KNN-predict_01 .ipynb",
      "provenance": [],
      "collapsed_sections": [],
      "authorship_tag": "ABX9TyMN7aMDzRMU2gRtGR9YYOsp",
      "include_colab_link": true
    },
    "kernelspec": {
      "name": "python3",
      "display_name": "Python 3"
    }
  },
  "cells": [
    {
      "cell_type": "markdown",
      "metadata": {
        "id": "view-in-github",
        "colab_type": "text"
      },
      "source": [
        "<a href=\"https://colab.research.google.com/github/franciscofijamo/machine_learng_handson/blob/master/KNN_predict_01_.ipynb\" target=\"_parent\"><img src=\"https://colab.research.google.com/assets/colab-badge.svg\" alt=\"Open In Colab\"/></a>"
      ]
    },
    {
      "cell_type": "markdown",
      "metadata": {
        "id": "Lhd8rhMiiZWv",
        "colab_type": "text"
      },
      "source": [
        "## KNN \n",
        "### Hipoteses\n",
        "* Dados semelhantes tendem a estar concentrados no mesmo espaço de dispersão\n",
        "* CosConsidera a proximidade dos dados para realizar as predições\n",
        "* Pode ser usada com qulquer medida de distância, e a mais usada é a distância euclidiana, outras metricas são Manhattan, Manhattan, Minkowski, etc\n",
        "\n",
        "O parametro K indica quanas amostras vizinhas serão comparadas.\n",
        "Especificar  o valor de K, é de extrema importância para o resultado do modelo"
      ]
    },
    {
      "cell_type": "code",
      "metadata": {
        "id": "JVWGXSL6BD1X",
        "colab_type": "code",
        "colab": {}
      },
      "source": [
        "import pandas as pd\n",
        "import seaborn as sns\n",
        "import matplotlib.pyplot as plt\n",
        "import numpy as np\n",
        "import warnings\n",
        "from sklearn.datasets import load_iris\n",
        "warnings.filterwarnings('ignore')\n",
        "%matplotlib inline"
      ],
      "execution_count": 9,
      "outputs": []
    },
    {
      "cell_type": "markdown",
      "metadata": {
        "id": "6JfsfLP-qweu",
        "colab_type": "text"
      },
      "source": [
        "### 1.0 Load data"
      ]
    },
    {
      "cell_type": "code",
      "metadata": {
        "id": "qxJpTjQFq1Eu",
        "colab_type": "code",
        "colab": {}
      },
      "source": [
        " link = 'https://gist.githubusercontent.com/curran/a08a1080b88344b0c8a7/raw/639388c2cbc2120a14dcf466e85730eb8be498bb/iris.csv'\n",
        " data = pd.read_csv(link)"
      ],
      "execution_count": 24,
      "outputs": []
    },
    {
      "cell_type": "code",
      "metadata": {
        "id": "aocYkD9UrwLa",
        "colab_type": "code",
        "colab": {
          "base_uri": "https://localhost:8080/",
          "height": 52
        },
        "outputId": "daf1e98d-8eaa-4cb0-dcaf-8ce26c64f866"
      },
      "source": [
        "print('Quantidade de linhas: {}\\nQuantidade de Colunas: {}'.format(data.shape[0], data.shape[1]))"
      ],
      "execution_count": 26,
      "outputs": [
        {
          "output_type": "stream",
          "text": [
            "Quantidade de linhas: 150\n",
            "Quantidade de Colunas: 5\n"
          ],
          "name": "stdout"
        }
      ]
    },
    {
      "cell_type": "code",
      "metadata": {
        "id": "QXF-R1OStyyr",
        "colab_type": "code",
        "colab": {
          "base_uri": "https://localhost:8080/",
          "height": 225
        },
        "outputId": "f5198957-d438-45e8-9911-103742e8633a"
      },
      "source": [
        "data.info()"
      ],
      "execution_count": 29,
      "outputs": [
        {
          "output_type": "stream",
          "text": [
            "<class 'pandas.core.frame.DataFrame'>\n",
            "RangeIndex: 150 entries, 0 to 149\n",
            "Data columns (total 5 columns):\n",
            " #   Column        Non-Null Count  Dtype  \n",
            "---  ------        --------------  -----  \n",
            " 0   sepal_length  150 non-null    float64\n",
            " 1   sepal_width   150 non-null    float64\n",
            " 2   petal_length  150 non-null    float64\n",
            " 3   petal_width   150 non-null    float64\n",
            " 4   species       150 non-null    object \n",
            "dtypes: float64(4), object(1)\n",
            "memory usage: 6.0+ KB\n"
          ],
          "name": "stdout"
        }
      ]
    },
    {
      "cell_type": "code",
      "metadata": {
        "id": "lYtRti_RuPNg",
        "colab_type": "code",
        "colab": {
          "base_uri": "https://localhost:8080/",
          "height": 294
        },
        "outputId": "01f3c45e-9320-4d7f-b9ee-e3b258f6fbe0"
      },
      "source": [
        "data.describe()"
      ],
      "execution_count": 30,
      "outputs": [
        {
          "output_type": "execute_result",
          "data": {
            "text/html": [
              "<div>\n",
              "<style scoped>\n",
              "    .dataframe tbody tr th:only-of-type {\n",
              "        vertical-align: middle;\n",
              "    }\n",
              "\n",
              "    .dataframe tbody tr th {\n",
              "        vertical-align: top;\n",
              "    }\n",
              "\n",
              "    .dataframe thead th {\n",
              "        text-align: right;\n",
              "    }\n",
              "</style>\n",
              "<table border=\"1\" class=\"dataframe\">\n",
              "  <thead>\n",
              "    <tr style=\"text-align: right;\">\n",
              "      <th></th>\n",
              "      <th>sepal_length</th>\n",
              "      <th>sepal_width</th>\n",
              "      <th>petal_length</th>\n",
              "      <th>petal_width</th>\n",
              "    </tr>\n",
              "  </thead>\n",
              "  <tbody>\n",
              "    <tr>\n",
              "      <th>count</th>\n",
              "      <td>150.000000</td>\n",
              "      <td>150.000000</td>\n",
              "      <td>150.000000</td>\n",
              "      <td>150.000000</td>\n",
              "    </tr>\n",
              "    <tr>\n",
              "      <th>mean</th>\n",
              "      <td>5.843333</td>\n",
              "      <td>3.054000</td>\n",
              "      <td>3.758667</td>\n",
              "      <td>1.198667</td>\n",
              "    </tr>\n",
              "    <tr>\n",
              "      <th>std</th>\n",
              "      <td>0.828066</td>\n",
              "      <td>0.433594</td>\n",
              "      <td>1.764420</td>\n",
              "      <td>0.763161</td>\n",
              "    </tr>\n",
              "    <tr>\n",
              "      <th>min</th>\n",
              "      <td>4.300000</td>\n",
              "      <td>2.000000</td>\n",
              "      <td>1.000000</td>\n",
              "      <td>0.100000</td>\n",
              "    </tr>\n",
              "    <tr>\n",
              "      <th>25%</th>\n",
              "      <td>5.100000</td>\n",
              "      <td>2.800000</td>\n",
              "      <td>1.600000</td>\n",
              "      <td>0.300000</td>\n",
              "    </tr>\n",
              "    <tr>\n",
              "      <th>50%</th>\n",
              "      <td>5.800000</td>\n",
              "      <td>3.000000</td>\n",
              "      <td>4.350000</td>\n",
              "      <td>1.300000</td>\n",
              "    </tr>\n",
              "    <tr>\n",
              "      <th>75%</th>\n",
              "      <td>6.400000</td>\n",
              "      <td>3.300000</td>\n",
              "      <td>5.100000</td>\n",
              "      <td>1.800000</td>\n",
              "    </tr>\n",
              "    <tr>\n",
              "      <th>max</th>\n",
              "      <td>7.900000</td>\n",
              "      <td>4.400000</td>\n",
              "      <td>6.900000</td>\n",
              "      <td>2.500000</td>\n",
              "    </tr>\n",
              "  </tbody>\n",
              "</table>\n",
              "</div>"
            ],
            "text/plain": [
              "       sepal_length  sepal_width  petal_length  petal_width\n",
              "count    150.000000   150.000000    150.000000   150.000000\n",
              "mean       5.843333     3.054000      3.758667     1.198667\n",
              "std        0.828066     0.433594      1.764420     0.763161\n",
              "min        4.300000     2.000000      1.000000     0.100000\n",
              "25%        5.100000     2.800000      1.600000     0.300000\n",
              "50%        5.800000     3.000000      4.350000     1.300000\n",
              "75%        6.400000     3.300000      5.100000     1.800000\n",
              "max        7.900000     4.400000      6.900000     2.500000"
            ]
          },
          "metadata": {
            "tags": []
          },
          "execution_count": 30
        }
      ]
    },
    {
      "cell_type": "markdown",
      "metadata": {
        "id": "tpBT4epEuU4z",
        "colab_type": "text"
      },
      "source": [
        "### 2.0 Machine Learning . Train Text Split"
      ]
    },
    {
      "cell_type": "code",
      "metadata": {
        "id": "YOiBiXiDucJ6",
        "colab_type": "code",
        "colab": {}
      },
      "source": [
        "from sklearn.model_selection import train_test_split"
      ],
      "execution_count": 31,
      "outputs": []
    },
    {
      "cell_type": "code",
      "metadata": {
        "id": "fK47Ft1Sug4x",
        "colab_type": "code",
        "colab": {}
      },
      "source": [
        "X_train, X_test, y_train, y_test = train_test_split(data.drop('species', axis = 1),\n",
        "                                                     data['species'],\n",
        "                                                     test_size = 0.3)"
      ],
      "execution_count": 35,
      "outputs": []
    },
    {
      "cell_type": "markdown",
      "metadata": {
        "id": "TPbu71vAvZeI",
        "colab_type": "text"
      },
      "source": [
        "### Data Shape"
      ]
    },
    {
      "cell_type": "code",
      "metadata": {
        "id": "iZXRZjFAvgxE",
        "colab_type": "code",
        "colab": {
          "base_uri": "https://localhost:8080/",
          "height": 34
        },
        "outputId": "6425ffc9-04aa-4c05-ec8f-3aaf676caa04"
      },
      "source": [
        "X_train.shape, X_test.shape"
      ],
      "execution_count": 36,
      "outputs": [
        {
          "output_type": "execute_result",
          "data": {
            "text/plain": [
              "((105, 4), (45, 4))"
            ]
          },
          "metadata": {
            "tags": []
          },
          "execution_count": 36
        }
      ]
    },
    {
      "cell_type": "code",
      "metadata": {
        "id": "2ziCW1rEv_6q",
        "colab_type": "code",
        "colab": {
          "base_uri": "https://localhost:8080/",
          "height": 34
        },
        "outputId": "dee9c169-0018-4f42-a0e1-4d33728241e5"
      },
      "source": [
        "y_train.shape, y_test.shape"
      ],
      "execution_count": 38,
      "outputs": [
        {
          "output_type": "execute_result",
          "data": {
            "text/plain": [
              "((105,), (45,))"
            ]
          },
          "metadata": {
            "tags": []
          },
          "execution_count": 38
        }
      ]
    },
    {
      "cell_type": "markdown",
      "metadata": {
        "id": "Qdzvp6-0wJUC",
        "colab_type": "text"
      },
      "source": [
        "# 3.0 KNN  Algorithm"
      ]
    },
    {
      "cell_type": "code",
      "metadata": {
        "id": "Ya7pCBDdwHgC",
        "colab_type": "code",
        "colab": {}
      },
      "source": [
        "from sklearn.neighbors import KNeighborsClassifier"
      ],
      "execution_count": 39,
      "outputs": []
    },
    {
      "cell_type": "code",
      "metadata": {
        "id": "Txq0YhvYwXAm",
        "colab_type": "code",
        "colab": {}
      },
      "source": [
        "knn = KNeighborsClassifier(n_neighbors= 3)"
      ],
      "execution_count": 40,
      "outputs": []
    },
    {
      "cell_type": "code",
      "metadata": {
        "id": "P3e7a7Mhw6OH",
        "colab_type": "code",
        "colab": {
          "base_uri": "https://localhost:8080/",
          "height": 69
        },
        "outputId": "3871cc20-3ccf-4299-fb78-e43cc8d9c0a5"
      },
      "source": [
        "knn.fit(X_train, y_train)"
      ],
      "execution_count": 41,
      "outputs": [
        {
          "output_type": "execute_result",
          "data": {
            "text/plain": [
              "KNeighborsClassifier(algorithm='auto', leaf_size=30, metric='minkowski',\n",
              "                     metric_params=None, n_jobs=None, n_neighbors=3, p=2,\n",
              "                     weights='uniform')"
            ]
          },
          "metadata": {
            "tags": []
          },
          "execution_count": 41
        }
      ]
    },
    {
      "cell_type": "markdown",
      "metadata": {
        "id": "BwmFXTHlxIX8",
        "colab_type": "text"
      },
      "source": [
        "### Model Predict KNN"
      ]
    },
    {
      "cell_type": "code",
      "metadata": {
        "id": "kkLrtxCLxFZZ",
        "colab_type": "code",
        "colab": {
          "base_uri": "https://localhost:8080/",
          "height": 190
        },
        "outputId": "6ff22363-f6a4-480b-86e8-47ec5b9db688"
      },
      "source": [
        "knn_predict = knn.predict(X_test)\n",
        "knn_predict"
      ],
      "execution_count": 45,
      "outputs": [
        {
          "output_type": "execute_result",
          "data": {
            "text/plain": [
              "array(['versicolor', 'virginica', 'versicolor', 'virginica', 'versicolor',\n",
              "       'setosa', 'setosa', 'virginica', 'versicolor', 'virginica',\n",
              "       'setosa', 'virginica', 'versicolor', 'virginica', 'virginica',\n",
              "       'virginica', 'setosa', 'versicolor', 'virginica', 'versicolor',\n",
              "       'versicolor', 'setosa', 'setosa', 'virginica', 'setosa',\n",
              "       'versicolor', 'virginica', 'virginica', 'setosa', 'versicolor',\n",
              "       'setosa', 'virginica', 'virginica', 'versicolor', 'setosa',\n",
              "       'versicolor', 'versicolor', 'versicolor', 'setosa', 'setosa',\n",
              "       'setosa', 'virginica', 'setosa', 'versicolor', 'setosa'],\n",
              "      dtype=object)"
            ]
          },
          "metadata": {
            "tags": []
          },
          "execution_count": 45
        }
      ]
    },
    {
      "cell_type": "markdown",
      "metadata": {
        "id": "NOzImYG2xnoh",
        "colab_type": "text"
      },
      "source": [
        "### predict new values\n"
      ]
    },
    {
      "cell_type": "code",
      "metadata": {
        "id": "I_9WTM5BxtV2",
        "colab_type": "code",
        "colab": {}
      },
      "source": [
        "new_values = np.array([[5.1,3.5,1.4,0.2]])\n"
      ],
      "execution_count": 46,
      "outputs": []
    },
    {
      "cell_type": "code",
      "metadata": {
        "id": "dNUtBL_ux6PT",
        "colab_type": "code",
        "colab": {
          "base_uri": "https://localhost:8080/",
          "height": 34
        },
        "outputId": "78c50dbe-828c-42fd-8741-571d31dd4205"
      },
      "source": [
        "\n",
        "# predict proba return probability of data to class\n",
        "knn.predict(new_values), knn.predict_proba(new_values)"
      ],
      "execution_count": 47,
      "outputs": [
        {
          "output_type": "execute_result",
          "data": {
            "text/plain": [
              "(array(['setosa'], dtype=object), array([[1., 0., 0.]]))"
            ]
          },
          "metadata": {
            "tags": []
          },
          "execution_count": 47
        }
      ]
    },
    {
      "cell_type": "markdown",
      "metadata": {
        "id": "BnD1vEcuyZI_",
        "colab_type": "text"
      },
      "source": [
        "Conclusao, a classe 'setosa', sua probabilidade para primeira colunas 'e 1, enquanto que para as outras  'e 0"
      ]
    },
    {
      "cell_type": "markdown",
      "metadata": {
        "id": "SJFArzT2yyvy",
        "colab_type": "text"
      },
      "source": [
        "# 4.0 Cross Table\n"
      ]
    },
    {
      "cell_type": "code",
      "metadata": {
        "id": "QYNwhWMXy6JX",
        "colab_type": "code",
        "colab": {
          "base_uri": "https://localhost:8080/",
          "height": 121
        },
        "outputId": "f76a94c7-c738-4d93-e217-15c910700e14"
      },
      "source": [
        "print( pd.crosstab(y_test, knn_predict, rownames=['Real Value'], colnames=['                                    Predict'], margins= True))"
      ],
      "execution_count": 49,
      "outputs": [
        {
          "output_type": "stream",
          "text": [
            "                                    Predict  setosa  versicolor  virginica  All\n",
            "Real Value                                                                     \n",
            "setosa                                           15           0          0   15\n",
            "versicolor                                        0          14          2   16\n",
            "virginica                                         0           1         13   14\n",
            "All                                              15          15         15   45\n"
          ],
          "name": "stdout"
        }
      ]
    },
    {
      "cell_type": "markdown",
      "metadata": {
        "id": "ML9iTMmI0Qzy",
        "colab_type": "text"
      },
      "source": [
        "# 5.0 Metrics Classificartion"
      ]
    },
    {
      "cell_type": "code",
      "metadata": {
        "id": "SzpTWZF00ObA",
        "colab_type": "code",
        "colab": {}
      },
      "source": [
        "from sklearn import  metrics"
      ],
      "execution_count": 50,
      "outputs": []
    },
    {
      "cell_type": "code",
      "metadata": {
        "id": "vk5bX4Pj0YLm",
        "colab_type": "code",
        "colab": {}
      },
      "source": [
        "print( metrics.classification_report(y_test, knn_predict, target_names= data['species']))"
      ],
      "execution_count": null,
      "outputs": []
    }
  ]
}