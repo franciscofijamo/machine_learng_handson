{
  "nbformat": 4,
  "nbformat_minor": 0,
  "metadata": {
    "colab": {
      "name": "mtcars analytics.ipynb",
      "provenance": [],
      "authorship_tag": "ABX9TyM2WUUBepdjODPwXn9D4jQb"
    },
    "kernelspec": {
      "name": "python3",
      "display_name": "Python 3"
    },
    "language_info": {
      "name": "python"
    }
  },
  "cells": [
    {
      "cell_type": "code",
      "metadata": {
        "id": "oAhe5WatWSf7"
      },
      "source": [
        "import pandas as pd\n",
        "import numpy as np\n",
        "import seaborn as sns\n",
        "from IPython.core.display import HTML\n",
        "import matplotlib.pyplot as plt"
      ],
      "execution_count": 43,
      "outputs": []
    },
    {
      "cell_type": "code",
      "metadata": {
        "colab": {
          "base_uri": "https://localhost:8080/",
          "height": 34
        },
        "id": "21gkun1rAc5f",
        "outputId": "ccbd5f0c-8e73-45d3-d5e4-832f74614d1c"
      },
      "source": [
        "import warnings\n",
        "\n",
        "warnings.filterwarnings('ignore')\n",
        "\n",
        "\n",
        "# adjust jupyter notebook viz\n",
        "def jupyter_settings():\n",
        "    %matplotlib inline\n",
        "    %pylab inline\n",
        "    plt.style.use( 'bmh' )\n",
        "    plt.rcParams['figure.figsize'] = [25, 10]\n",
        "    plt.rcParams['font.size'] = 20\n",
        "    display( HTML( '<style>.container { width:100% !important; }</style>') )\n",
        "    pd.options.display.max_columns = None\n",
        "    pd.options.display.max_rows = None\n",
        "    pd.set_option( 'display.expand_frame_repr', False )\n",
        "    sns.set()\n",
        "    \n",
        "jupyter_settings()"
      ],
      "execution_count": 67,
      "outputs": [
        {
          "output_type": "stream",
          "text": [
            "Populating the interactive namespace from numpy and matplotlib\n"
          ],
          "name": "stdout"
        },
        {
          "output_type": "display_data",
          "data": {
            "text/html": [
              "<style>.container { width:100% !important; }</style>"
            ],
            "text/plain": [
              "<IPython.core.display.HTML object>"
            ]
          },
          "metadata": {
            "tags": []
          }
        }
      ]
    },
    {
      "cell_type": "markdown",
      "metadata": {
        "id": "f-iWdMhyXKsG"
      },
      "source": [
        "# Load Data"
      ]
    },
    {
      "cell_type": "code",
      "metadata": {
        "id": "CF3HtasWW5gp"
      },
      "source": [
        "url = 'https://raw.githubusercontent.com/franciscofijamo/machine_learng_handson/master/carros.csv'\n",
        "\n",
        "df = pd.read_csv(url)"
      ],
      "execution_count": 3,
      "outputs": []
    },
    {
      "cell_type": "code",
      "metadata": {
        "colab": {
          "base_uri": "https://localhost:8080/",
          "height": 204
        },
        "id": "uIY-a6QoW_gf",
        "outputId": "09dc0f8d-c9c1-4f75-9b79-56ceaf4f6a27"
      },
      "source": [
        "df.head()"
      ],
      "execution_count": 4,
      "outputs": [
        {
          "output_type": "execute_result",
          "data": {
            "text/html": [
              "<div>\n",
              "<style scoped>\n",
              "    .dataframe tbody tr th:only-of-type {\n",
              "        vertical-align: middle;\n",
              "    }\n",
              "\n",
              "    .dataframe tbody tr th {\n",
              "        vertical-align: top;\n",
              "    }\n",
              "\n",
              "    .dataframe thead th {\n",
              "        text-align: right;\n",
              "    }\n",
              "</style>\n",
              "<table border=\"1\" class=\"dataframe\">\n",
              "  <thead>\n",
              "    <tr style=\"text-align: right;\">\n",
              "      <th></th>\n",
              "      <th>year</th>\n",
              "      <th>model</th>\n",
              "      <th>price</th>\n",
              "      <th>mileage</th>\n",
              "      <th>color</th>\n",
              "      <th>transmission</th>\n",
              "    </tr>\n",
              "  </thead>\n",
              "  <tbody>\n",
              "    <tr>\n",
              "      <th>0</th>\n",
              "      <td>2011</td>\n",
              "      <td>SEL</td>\n",
              "      <td>21992</td>\n",
              "      <td>7413</td>\n",
              "      <td>Yellow</td>\n",
              "      <td>AUTO</td>\n",
              "    </tr>\n",
              "    <tr>\n",
              "      <th>1</th>\n",
              "      <td>2011</td>\n",
              "      <td>SEL</td>\n",
              "      <td>20995</td>\n",
              "      <td>10926</td>\n",
              "      <td>Gray</td>\n",
              "      <td>AUTO</td>\n",
              "    </tr>\n",
              "    <tr>\n",
              "      <th>2</th>\n",
              "      <td>2011</td>\n",
              "      <td>SEL</td>\n",
              "      <td>19995</td>\n",
              "      <td>7351</td>\n",
              "      <td>Silver</td>\n",
              "      <td>AUTO</td>\n",
              "    </tr>\n",
              "    <tr>\n",
              "      <th>3</th>\n",
              "      <td>2011</td>\n",
              "      <td>SEL</td>\n",
              "      <td>17809</td>\n",
              "      <td>11613</td>\n",
              "      <td>Gray</td>\n",
              "      <td>AUTO</td>\n",
              "    </tr>\n",
              "    <tr>\n",
              "      <th>4</th>\n",
              "      <td>2012</td>\n",
              "      <td>SE</td>\n",
              "      <td>17500</td>\n",
              "      <td>8367</td>\n",
              "      <td>White</td>\n",
              "      <td>AUTO</td>\n",
              "    </tr>\n",
              "  </tbody>\n",
              "</table>\n",
              "</div>"
            ],
            "text/plain": [
              "   year model  price  mileage   color transmission\n",
              "0  2011   SEL  21992     7413  Yellow         AUTO\n",
              "1  2011   SEL  20995    10926    Gray         AUTO\n",
              "2  2011   SEL  19995     7351  Silver         AUTO\n",
              "3  2011   SEL  17809    11613    Gray         AUTO\n",
              "4  2012    SE  17500     8367   White         AUTO"
            ]
          },
          "metadata": {
            "tags": []
          },
          "execution_count": 4
        }
      ]
    },
    {
      "cell_type": "markdown",
      "metadata": {
        "id": "qJBmRAUJXNFo"
      },
      "source": [
        "# Resume dataset\n"
      ]
    },
    {
      "cell_type": "code",
      "metadata": {
        "colab": {
          "base_uri": "https://localhost:8080/"
        },
        "id": "mrl0MRJ_XEDR",
        "outputId": "7d53a1c4-2387-4201-f21e-8fdfa5447844"
      },
      "source": [
        "df.dtypes"
      ],
      "execution_count": 5,
      "outputs": [
        {
          "output_type": "execute_result",
          "data": {
            "text/plain": [
              "year             int64\n",
              "model           object\n",
              "price            int64\n",
              "mileage          int64\n",
              "color           object\n",
              "transmission    object\n",
              "dtype: object"
            ]
          },
          "metadata": {
            "tags": []
          },
          "execution_count": 5
        }
      ]
    },
    {
      "cell_type": "code",
      "metadata": {
        "colab": {
          "base_uri": "https://localhost:8080/"
        },
        "id": "onmBTrM3XmyG",
        "outputId": "eb652047-1b63-46e9-b941-41f237509bd8"
      },
      "source": [
        "df.price.describe()"
      ],
      "execution_count": 14,
      "outputs": [
        {
          "output_type": "execute_result",
          "data": {
            "text/plain": [
              "count      150.000000\n",
              "mean     12961.933333\n",
              "std       3122.481735\n",
              "min       3800.000000\n",
              "25%      10995.000000\n",
              "50%      13591.500000\n",
              "75%      14904.500000\n",
              "max      21992.000000\n",
              "Name: price, dtype: float64"
            ]
          },
          "metadata": {
            "tags": []
          },
          "execution_count": 14
        }
      ]
    },
    {
      "cell_type": "code",
      "metadata": {
        "colab": {
          "base_uri": "https://localhost:8080/"
        },
        "id": "hy7l43g9Zu4R",
        "outputId": "475c280d-7bec-4008-ca11-86546421b1f6"
      },
      "source": [
        "# claculing the range\n",
        "print(\"A diferenca entre o preco min e maximo: {}\".format(df.price.max() - df.price.min()))\n"
      ],
      "execution_count": 15,
      "outputs": [
        {
          "output_type": "stream",
          "text": [
            "a diferenca entre o preco min e maximo: 18192\n"
          ],
          "name": "stdout"
        }
      ]
    },
    {
      "cell_type": "markdown",
      "metadata": {
        "id": "4VxWvA4QdR34"
      },
      "source": [
        ""
      ]
    },
    {
      "cell_type": "code",
      "metadata": {
        "colab": {
          "base_uri": "https://localhost:8080/"
        },
        "id": "gLVvCUsVb3CD",
        "outputId": "2f9094b5-d415-43c1-ef16-c3830aba622d"
      },
      "source": [
        "# calculing percentile '0,25,50,75,100'\n",
        "ax = np.percentile(df.price, [0,25,50,75,100])\n",
        "# calculing percentile  '1,99'\n",
        "ax1 = np.percentile(df.price, [1,99])\n",
        "\n",
        "\n",
        "print('Calculing perncetil 1, 99 : {}'.format(ax1))\n",
        "print('Calculing perncetil [0,25,50,75,100] : {}'.format(ax))"
      ],
      "execution_count": 37,
      "outputs": [
        {
          "output_type": "stream",
          "text": [
            "Calculing perncetil 1, 99 : [ 5428.69 20505.  ]\n",
            "Calculing perncetil [0,25,50,75,100] : [ 3800.  10995.  13591.5 14904.5 21992. ]\n"
          ],
          "name": "stdout"
        }
      ]
    },
    {
      "cell_type": "code",
      "metadata": {
        "colab": {
          "base_uri": "https://localhost:8080/",
          "height": 627
        },
        "id": "jnlPXuxRdwhP",
        "outputId": "e290d066-05ba-4a19-9cee-23d5d98942cc"
      },
      "source": [
        "subplot(1,3,1)\n",
        "plt.title(\"Distribuicao do preco do caro em relacao a kilometragem\")\n",
        "columns = ['price', 'mileage']\n",
        "sns.scatterplot(data = df[columns]) \n",
        "\n",
        "subplot(1,3,2)\n",
        "plt.title(\"Distribuicao do preco do caro em relacao a kilometragem\")\n",
        "sns.scatterplot(x= 'mileage', y = 'price', data = df)\n",
        "\n",
        "subplot(1,3,3)\n",
        "sns.boxplot(df['price'], orient='h');\n",
        "\n"
      ],
      "execution_count": 68,
      "outputs": [
        {
          "output_type": "display_data",
          "data": {
            "image/png": "[encoded data removed]",
            "text/plain": [
              "<Figure size 1800x720 with 3 Axes>"
            ]
          },
          "metadata": {
            "tags": []
          }
        }
      ]
    },
    {
      "cell_type": "markdown",
      "metadata": {
        "id": "gsgRJzkeECPI"
      },
      "source": [
        "Constatamos que quando a kilometragem  aumenta o preco do carro reduz, ou seja quanto maior for a quilometragem entendemos que menor o calo vale."
      ]
    },
    {
      "cell_type": "code",
      "metadata": {
        "colab": {
          "base_uri": "https://localhost:8080/",
          "height": 661
        },
        "id": "aYElSe4SCFT5",
        "outputId": "183eedbd-d214-49af-c554-e146613c008f"
      },
      "source": [
        "df[columns].hist(bins = 25);"
      ],
      "execution_count": 72,
      "outputs": [
        {
          "output_type": "execute_result",
          "data": {
            "text/plain": [
              "array([[<matplotlib.axes._subplots.AxesSubplot object at 0x7fcef3e1dc50>,\n",
              "        <matplotlib.axes._subplots.AxesSubplot object at 0x7fcef4d5bb50>]],\n",
              "      dtype=object)"
            ]
          },
          "metadata": {
            "tags": []
          },
          "execution_count": 72
        },
        {
          "output_type": "display_data",
          "data": {
            "image/png": "[encoded data removed]",
            "text/plain": [
              "<Figure size 1800x720 with 2 Axes>"
            ]
          },
          "metadata": {
            "tags": []
          }
        }
      ]
    },
    {
      "cell_type": "code",
      "metadata": {
        "colab": {
          "base_uri": "https://localhost:8080/"
        },
        "id": "fpNYe6fyKE4z",
        "outputId": "065cd8e0-26b2-44b7-f939-d54e9337f029"
      },
      "source": [
        "# Tabela de Frequencia \n",
        "df['year'].value_counts()"
      ],
      "execution_count": 80,
      "outputs": [
        {
          "output_type": "execute_result",
          "data": {
            "text/plain": [
              "2010    49\n",
              "2009    42\n",
              "2011    16\n",
              "2008    14\n",
              "2007    11\n",
              "2006     6\n",
              "2004     3\n",
              "2000     3\n",
              "2005     2\n",
              "2012     1\n",
              "2003     1\n",
              "2002     1\n",
              "2001     1\n",
              "Name: year, dtype: int64"
            ]
          },
          "metadata": {
            "tags": []
          },
          "execution_count": 80
        }
      ]
    },
    {
      "cell_type": "code",
      "metadata": {
        "colab": {
          "base_uri": "https://localhost:8080/"
        },
        "id": "dlJQWum8NPHJ",
        "outputId": "8be3a1c3-8a65-4dec-965c-c6c07d78a516"
      },
      "source": [
        "model_frq = df['model'].value_counts()\n",
        "model_frq/len(df) # proporcao de frequencia (percentual)"
      ],
      "execution_count": 84,
      "outputs": [
        {
          "output_type": "execute_result",
          "data": {
            "text/plain": [
              "SE     0.520000\n",
              "SES    0.326667\n",
              "SEL    0.153333\n",
              "Name: model, dtype: float64"
            ]
          },
          "metadata": {
            "tags": []
          },
          "execution_count": 84
        }
      ]
    },
    {
      "cell_type": "code",
      "metadata": {
        "colab": {
          "base_uri": "https://localhost:8080/"
        },
        "id": "9UxFjGLXNw1C",
        "outputId": "b6e49a6c-21c1-46c6-e652-08009edab8fd"
      },
      "source": [
        "color_frq = df['color'].value_counts()\n",
        "color_frq/len(df) # proporcao de frequencia (percentual)"
      ],
      "execution_count": 86,
      "outputs": [
        {
          "output_type": "execute_result",
          "data": {
            "text/plain": [
              "Black     0.233333\n",
              "Silver    0.213333\n",
              "Red       0.166667\n",
              "Blue      0.113333\n",
              "White     0.106667\n",
              "Gray      0.106667\n",
              "Green     0.033333\n",
              "Yellow    0.020000\n",
              "Gold      0.006667\n",
              "Name: color, dtype: float64"
            ]
          },
          "metadata": {
            "tags": []
          },
          "execution_count": 86
        }
      ]
    },
    {
      "cell_type": "code",
      "metadata": {
        "colab": {
          "base_uri": "https://localhost:8080/",
          "height": 452
        },
        "id": "IO9o88CJN0qk",
        "outputId": "af2fb98f-32de-44d8-ba62-afe5c5ee729f"
      },
      "source": [
        "# agregate functions\n",
        "\n",
        "\n",
        "# qual e a media do preco     -    agrupado por ano\n",
        "# preco > por ano\n",
        "df[['price', 'year']].groupby('year').mean().reset_index()\n"
      ],
      "execution_count": 89,
      "outputs": [
        {
          "output_type": "execute_result",
          "data": {
            "text/html": [
              "<div>\n",
              "<style scoped>\n",
              "    .dataframe tbody tr th:only-of-type {\n",
              "        vertical-align: middle;\n",
              "    }\n",
              "\n",
              "    .dataframe tbody tr th {\n",
              "        vertical-align: top;\n",
              "    }\n",
              "\n",
              "    .dataframe thead th {\n",
              "        text-align: right;\n",
              "    }\n",
              "</style>\n",
              "<table border=\"1\" class=\"dataframe\">\n",
              "  <thead>\n",
              "    <tr style=\"text-align: right;\">\n",
              "      <th></th>\n",
              "      <th>year</th>\n",
              "      <th>price</th>\n",
              "    </tr>\n",
              "  </thead>\n",
              "  <tbody>\n",
              "    <tr>\n",
              "      <th>0</th>\n",
              "      <td>2000</td>\n",
              "      <td>5586.666667</td>\n",
              "    </tr>\n",
              "    <tr>\n",
              "      <th>1</th>\n",
              "      <td>2001</td>\n",
              "      <td>4899.000000</td>\n",
              "    </tr>\n",
              "    <tr>\n",
              "      <th>2</th>\n",
              "      <td>2002</td>\n",
              "      <td>5995.000000</td>\n",
              "    </tr>\n",
              "    <tr>\n",
              "      <th>3</th>\n",
              "      <td>2003</td>\n",
              "      <td>7900.000000</td>\n",
              "    </tr>\n",
              "    <tr>\n",
              "      <th>4</th>\n",
              "      <td>2004</td>\n",
              "      <td>6976.333333</td>\n",
              "    </tr>\n",
              "    <tr>\n",
              "      <th>5</th>\n",
              "      <td>2005</td>\n",
              "      <td>9241.500000</td>\n",
              "    </tr>\n",
              "    <tr>\n",
              "      <th>6</th>\n",
              "      <td>2006</td>\n",
              "      <td>8330.666667</td>\n",
              "    </tr>\n",
              "    <tr>\n",
              "      <th>7</th>\n",
              "      <td>2007</td>\n",
              "      <td>9747.363636</td>\n",
              "    </tr>\n",
              "    <tr>\n",
              "      <th>8</th>\n",
              "      <td>2008</td>\n",
              "      <td>11156.500000</td>\n",
              "    </tr>\n",
              "    <tr>\n",
              "      <th>9</th>\n",
              "      <td>2009</td>\n",
              "      <td>13145.428571</td>\n",
              "    </tr>\n",
              "    <tr>\n",
              "      <th>10</th>\n",
              "      <td>2010</td>\n",
              "      <td>14545.653061</td>\n",
              "    </tr>\n",
              "    <tr>\n",
              "      <th>11</th>\n",
              "      <td>2011</td>\n",
              "      <td>17098.937500</td>\n",
              "    </tr>\n",
              "    <tr>\n",
              "      <th>12</th>\n",
              "      <td>2012</td>\n",
              "      <td>17500.000000</td>\n",
              "    </tr>\n",
              "  </tbody>\n",
              "</table>\n",
              "</div>"
            ],
            "text/plain": [
              "    year         price\n",
              "0   2000   5586.666667\n",
              "1   2001   4899.000000\n",
              "2   2002   5995.000000\n",
              "3   2003   7900.000000\n",
              "4   2004   6976.333333\n",
              "5   2005   9241.500000\n",
              "6   2006   8330.666667\n",
              "7   2007   9747.363636\n",
              "8   2008  11156.500000\n",
              "9   2009  13145.428571\n",
              "10  2010  14545.653061\n",
              "11  2011  17098.937500\n",
              "12  2012  17500.000000"
            ]
          },
          "metadata": {
            "tags": []
          },
          "execution_count": 89
        }
      ]
    },
    {
      "cell_type": "code",
      "metadata": {
        "id": "95RubbhOY__z"
      },
      "source": [
        ""
      ],
      "execution_count": null,
      "outputs": []
    }
  ]
}