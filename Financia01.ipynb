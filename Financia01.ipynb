{
  "nbformat": 4,
  "nbformat_minor": 0,
  "metadata": {
    "colab": {
      "name": "Financia01.ipynb",
      "provenance": [],
      "authorship_tag": "ABX9TyPIgTZzKu+lCIj3JZgOZMj1"
    },
    "kernelspec": {
      "name": "python3",
      "display_name": "Python 3"
    }
  },
  "cells": [
    {
      "cell_type": "code",
      "metadata": {
        "id": "VNaSI18IvH7t",
        "colab_type": "code",
        "colab": {}
      },
      "source": [
        "# Financial Analysis - Machine Learning"
      ],
      "execution_count": null,
      "outputs": []
    }
  ]
}